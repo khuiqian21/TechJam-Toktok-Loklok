{
 "cells": [
  {
   "cell_type": "code",
   "execution_count": 3,
   "id": "d0e51d9d",
   "metadata": {},
   "outputs": [],
   "source": [
    "import pandas as pd\n",
    "from sklearn.model_selection import train_test_split\n",
    "from sklearn.linear_model import LogisticRegression\n",
    "from sklearn.metrics import classification_report\n",
    "import pickle"
   ]
  },
  {
   "cell_type": "code",
   "execution_count": 4,
   "id": "29108d83",
   "metadata": {},
   "outputs": [
    {
     "name": "stdout",
     "output_type": "stream",
     "text": [
      "         locationName            category   reviewerName      publishedAtDate  \\\n",
      "0  Gardens by the Bay  Tourist attraction  Stylusmaestro  2021-12-29 10:13:13   \n",
      "1  Gardens by the Bay  Tourist attraction      JoJo Chin  2020-03-21 09:06:31   \n",
      "2  Gardens by the Bay  Tourist attraction     Theticus _  2020-03-03 00:12:25   \n",
      "3  Gardens by the Bay  Tourist attraction        sky wda  2020-01-02 18:05:38   \n",
      "4  Gardens by the Bay  Tourist attraction    Trúc Nguyễn  2020-01-01 12:22:38   \n",
      "\n",
      "   rating                                         reviewText  \\\n",
      "0     0.5  For a weekday this is considered very crowded....   \n",
      "1     1.0  Awsome view with breeze wind. Suitable for all...   \n",
      "2     0.5  Great place to hang out and have picnic especi...   \n",
      "3     1.0  Every years great place to catch firework on S...   \n",
      "4     1.0        This is the 10 times I come here. Best view   \n",
      "\n",
      "                                           imageUrls  reviewerNumberOfReviews  \\\n",
      "0  https://lh3.googleusercontent.com/geougc-cs/AB...                     49.0   \n",
      "1                                                NaN                    201.0   \n",
      "2  https://lh3.googleusercontent.com/geougc-cs/AB...                   2181.0   \n",
      "3  https://lh3.googleusercontent.com/geougc-cs/AB...                     53.0   \n",
      "4  https://lh3.googleusercontent.com/geougc-cs/AB...                    127.0   \n",
      "\n",
      "   temporarilyClosed  qualityLevel  ...  reviewWordCount  sentimentScore  \\\n",
      "0                0.0             2  ...               32        0.001126   \n",
      "1                0.0             1  ...               11        0.999089   \n",
      "2                0.0             1  ...               12        0.999921   \n",
      "3                0.0             2  ...               28        0.999850   \n",
      "4                0.0             0  ...               10        0.997996   \n",
      "\n",
      "   sentimentRatingDiff  readabilityScore  grammarSpellingScore  hasLink  \\\n",
      "0             0.498874          0.771025              1.000000        0   \n",
      "1             0.000911          0.705070              0.909091        0   \n",
      "2             0.499921          0.818550              0.916667        0   \n",
      "3             0.000150          0.355107              0.892857        0   \n",
      "4             0.002004          1.000000              1.000000        0   \n",
      "\n",
      "   categoryRelevanceScore  imageRelevanceScore  imageQualityScore  \\\n",
      "0                0.281248             0.546696           0.856412   \n",
      "1                0.389142                  NaN                NaN   \n",
      "2                0.432605             0.546786           0.997150   \n",
      "3                0.248290             0.532493           0.963426   \n",
      "4                0.279137             0.524121           0.987667   \n",
      "\n",
      "   isAdvertisement  \n",
      "0              0.0  \n",
      "1              0.0  \n",
      "2              0.0  \n",
      "3              0.0  \n",
      "4              0.0  \n",
      "\n",
      "[5 rows x 21 columns]\n"
     ]
    }
   ],
   "source": [
    "# Google Sheet file ID\n",
    "file_id = \"1xkgCgwFvHSIST_pRXB4zmKRGAqw3Yyti\"\n",
    "\n",
    "# Export as Excel (.xlsx)\n",
    "url = f\"https://docs.google.com/spreadsheets/d/{file_id}/export?format=xlsx\"\n",
    "\n",
    "df = pd.read_excel(url)\n",
    "\n",
    "# Preview\n",
    "print(df.head())"
   ]
  },
  {
   "cell_type": "code",
   "execution_count": 7,
   "id": "3ba31986",
   "metadata": {},
   "outputs": [
    {
     "name": "stdout",
     "output_type": "stream",
     "text": [
      "\n",
      "Classification Report (threshold = 0.5):\n",
      "              precision    recall  f1-score   support\n",
      "\n",
      "           0       0.36      0.04      0.07       216\n",
      "           1       0.79      0.98      0.87       786\n",
      "\n",
      "    accuracy                           0.78      1002\n",
      "   macro avg       0.58      0.51      0.47      1002\n",
      "weighted avg       0.70      0.78      0.70      1002\n",
      "\n",
      "Coefficient for categoryRelevanceScore: 8.1405\n",
      "Coefficient for imageRelevanceScore: -0.0831\n",
      "Intercept: -1.2733\n"
     ]
    }
   ],
   "source": [
    "df = df.fillna(0)\n",
    "X = df[[\"categoryRelevanceScore\", \"imageRelevanceScore\"]]\n",
    "y = df[\"isRelevant\"]\n",
    "\n",
    "# -------- TRAIN-TEST SPLIT (stratified) --------\n",
    "X_train, X_test, y_train, y_test = train_test_split(\n",
    "    X, y, test_size=0.2, random_state=42, stratify=y\n",
    ")\n",
    "\n",
    "# -------- TRAIN LOGISTIC REGRESSION --------\n",
    "model = LogisticRegression(solver='liblinear')\n",
    "model.fit(X_train, y_train)\n",
    "\n",
    "# -------- PREDICT PROBABILITIES & DEFAULT THRESHOLD --------\n",
    "y_prob = model.predict_proba(X_test)[:, 1]\n",
    "y_pred = (y_prob >= 0.5).astype(int)  # default threshold\n",
    "\n",
    "# -------- EVALUATION --------\n",
    "print(\"\\nClassification Report (threshold = 0.5):\")\n",
    "print(classification_report(y_test, y_pred))\n",
    "\n",
    "# -------- INSPECT COEFFICIENTS --------\n",
    "for feat, coef in zip(X.columns, model.coef_[0]):\n",
    "    print(f\"Coefficient for {feat}: {coef:.4f}\")\n",
    "print(f\"Intercept: {model.intercept_[0]:.4f}\")\n"
   ]
  },
  {
   "cell_type": "code",
   "execution_count": 9,
   "id": "64dac4df",
   "metadata": {},
   "outputs": [],
   "source": [
    "with open(\"logreg_model.pkl\", \"wb\") as f:\n",
    "    pickle.dump(model, f)"
   ]
  }
 ],
 "metadata": {
  "kernelspec": {
   "display_name": "Python 3",
   "language": "python",
   "name": "python3"
  },
  "language_info": {
   "codemirror_mode": {
    "name": "ipython",
    "version": 3
   },
   "file_extension": ".py",
   "mimetype": "text/x-python",
   "name": "python",
   "nbconvert_exporter": "python",
   "pygments_lexer": "ipython3",
   "version": "3.12.1"
  }
 },
 "nbformat": 4,
 "nbformat_minor": 5
}
