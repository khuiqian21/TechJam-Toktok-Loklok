{
 "cells": [
  {
   "cell_type": "code",
   "execution_count": null,
   "id": "0004ee92",
   "metadata": {},
   "outputs": [],
   "source": [
    "import pandas as pd\n",
    "import numpy as np\n",
    "from sklearn.model_selection import train_test_split\n",
    "from sklearn.metrics import classification_report\n",
    "from sklearn.ensemble import RandomForestClassifier\n",
    "import pickle\n"
   ]
  },
  {
   "cell_type": "code",
   "execution_count": 6,
   "id": "9cb7fc85",
   "metadata": {},
   "outputs": [
    {
     "name": "stdout",
     "output_type": "stream",
     "text": [
      "         locationName            category   reviewerName      publishedAtDate  \\\n",
      "0  Gardens by the Bay  Tourist attraction  Stylusmaestro  2021-12-29 10:13:13   \n",
      "1  Gardens by the Bay  Tourist attraction      JoJo Chin  2020-03-21 09:06:31   \n",
      "2  Gardens by the Bay  Tourist attraction     Theticus _  2020-03-03 00:12:25   \n",
      "3  Gardens by the Bay  Tourist attraction        sky wda  2020-01-02 18:05:38   \n",
      "4  Gardens by the Bay  Tourist attraction    Trúc Nguyễn  2020-01-01 12:22:38   \n",
      "\n",
      "   rating                                         reviewText  \\\n",
      "0     0.5  For a weekday this is considered very crowded....   \n",
      "1     1.0  Awsome view with breeze wind. Suitable for all...   \n",
      "2     0.5  Great place to hang out and have picnic especi...   \n",
      "3     1.0  Every years great place to catch firework on S...   \n",
      "4     1.0        This is the 10 times I come here. Best view   \n",
      "\n",
      "                                           imageUrls  reviewerNumberOfReviews  \\\n",
      "0  https://lh3.googleusercontent.com/geougc-cs/AB...                     49.0   \n",
      "1                                                NaN                    201.0   \n",
      "2  https://lh3.googleusercontent.com/geougc-cs/AB...                   2181.0   \n",
      "3  https://lh3.googleusercontent.com/geougc-cs/AB...                     53.0   \n",
      "4  https://lh3.googleusercontent.com/geougc-cs/AB...                    127.0   \n",
      "\n",
      "   temporarilyClosed  qualityLevel  ...  reviewWordCount  sentimentScore  \\\n",
      "0                0.0             2  ...               32        0.001126   \n",
      "1                0.0             1  ...               11        0.999089   \n",
      "2                0.0             1  ...               12        0.999921   \n",
      "3                0.0             2  ...               28        0.999850   \n",
      "4                0.0             0  ...               10        0.997996   \n",
      "\n",
      "   sentimentRatingDiff  readabilityScore  grammarSpellingScore  hasLink  \\\n",
      "0             0.498874          0.771025              1.000000        0   \n",
      "1             0.000911          0.705070              0.909091        0   \n",
      "2             0.499921          0.818550              0.916667        0   \n",
      "3             0.000150          0.355107              0.892857        0   \n",
      "4             0.002004          1.000000              1.000000        0   \n",
      "\n",
      "   categoryrelevanceScore  imageRelevanceScore  imageQualityScore  \\\n",
      "0                0.281248             0.546696           0.856412   \n",
      "1                0.389142                  NaN                NaN   \n",
      "2                0.432605             0.546786           0.997150   \n",
      "3                0.248290             0.532493           0.963426   \n",
      "4                0.279137             0.524121           0.987667   \n",
      "\n",
      "   isAdvertisement  \n",
      "0              0.0  \n",
      "1              0.0  \n",
      "2              0.0  \n",
      "3              0.0  \n",
      "4              0.0  \n",
      "\n",
      "[5 rows x 21 columns]\n"
     ]
    }
   ],
   "source": [
    "# Google Sheet file ID\n",
    "file_id = \"1xkgCgwFvHSIST_pRXB4zmKRGAqw3Yyti\"\n",
    "\n",
    "# Export as Excel (.xlsx)\n",
    "url = f\"https://docs.google.com/spreadsheets/d/{file_id}/export?format=xlsx\"\n",
    "\n",
    "df = pd.read_excel(url)\n",
    "\n",
    "# Preview\n",
    "print(df.head())"
   ]
  },
  {
   "cell_type": "code",
   "execution_count": 29,
   "id": "cbbc49db",
   "metadata": {},
   "outputs": [
    {
     "name": "stdout",
     "output_type": "stream",
     "text": [
      "Random Forest:\n",
      "              precision    recall  f1-score   support\n",
      "\n",
      "           0       0.83      0.88      0.86       530\n",
      "           1       0.61      0.61      0.61       334\n",
      "           2       0.56      0.41      0.48       138\n",
      "\n",
      "    accuracy                           0.73      1002\n",
      "   macro avg       0.67      0.64      0.65      1002\n",
      "weighted avg       0.72      0.73      0.72      1002\n",
      "\n"
     ]
    }
   ],
   "source": [
    "df = df.fillna(0)\n",
    "X = df[[\"readabilityScore\", \"grammarSpellingScore\", \"sentimentRatingDiff\", \"reviewWordCount\", \"imageQualityScore\"]]  \n",
    "y = df[\"qualityLevel\"]\n",
    "\n",
    "# train test split\n",
    "X_train, X_test, y_train, y_test = train_test_split(X, y, test_size=0.2, random_state=42, stratify=y)\n",
    "\n",
    "rf = RandomForestClassifier(n_estimators=200, random_state=42, max_depth=10, min_samples_split=5, min_samples_leaf=2)\n",
    "rf.fit(X_train, y_train)\n",
    "y_pred_rf = rf.predict(X_test)\n",
    "print(\"Random Forest:\")\n",
    "print(classification_report(y_test, y_pred_rf))"
   ]
  },
  {
   "cell_type": "code",
   "execution_count": null,
   "id": "b01a5411",
   "metadata": {},
   "outputs": [],
   "source": [
    "\n",
    "# Save\n",
    "with open('random_forest_model.pkl', 'wb') as f:\n",
    "    pickle.dump(rf, f)"
   ]
  }
 ],
 "metadata": {
  "kernelspec": {
   "display_name": "Python 3",
   "language": "python",
   "name": "python3"
  },
  "language_info": {
   "codemirror_mode": {
    "name": "ipython",
    "version": 3
   },
   "file_extension": ".py",
   "mimetype": "text/x-python",
   "name": "python",
   "nbconvert_exporter": "python",
   "pygments_lexer": "ipython3",
   "version": "3.12.1"
  }
 },
 "nbformat": 4,
 "nbformat_minor": 5
}
